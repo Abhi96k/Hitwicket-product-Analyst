{
 "cells": [
  {
   "cell_type": "markdown",
   "metadata": {},
   "source": [
    " ## Problem 1 :Retrieve the list of teams that played at least 3 home matches of type ‘F5’ between timestamp 1583001000 (1st March 2020) and timestamp 1583778600 (9th March 2020), and the number of matches they played\n"
   ]
  },
  {
   "cell_type": "markdown",
   "metadata": {},
   "source": [
    "###### SELECT home_team_id, COUNT(*) AS match_count\n",
    "###### FROM matches\n",
    "###### WHERE type = 'F5'\n",
    "  ###### AND timestamp BETWEEN 1583001000 AND 1583778600\n",
    "###### GROUP BY home_team_id\n",
    "###### HAVING COUNT(*) >= 3;\n"
   ]
  },
  {
   "cell_type": "markdown",
   "metadata": {},
   "source": [
    "# Problem 2: Find out all unique users who have made a successful payment between timestamp 1583001000 (1st March 2020) and timestamp 1583778600 (9th March 2020)\n"
   ]
  },
  {
   "cell_type": "markdown",
   "metadata": {},
   "source": [
    "###### SELECT DISTINCT user_id\n",
    "###### FROM Payments\n",
    "###### WHERE status = 2\n",
    "  ###### AND gateway != 'tapjoy'\n",
    "  ###### AND timestamp BETWEEN 1583001000 AND 1583778600;"
   ]
  },
  {
   "cell_type": "markdown",
   "metadata": {},
   "source": [
    "# Problem 3: Find out all users who completed a payment between timestamps 1366137000 (17th April 2013) and 1397673000 (17th April 2014) and were still active after 1483209000 (1st Jan 2017)"
   ]
  },
  {
   "cell_type": "markdown",
   "metadata": {},
   "source": [
    "###### SELECT DISTINCT p.user_id\n",
    "###### FROM Payments p\n",
    "###### JOIN Users u ON p.user_id = u.user_id\n",
    "###### WHERE p.timestamp BETWEEN 1366137000 AND 1397673000\n",
    "  ###### AND u.last_active_at > 1483209000;"
   ]
  },
  {
   "cell_type": "markdown",
   "metadata": {},
   "source": [
    "# Problem 4: Find out all users who have not completed a single payment between timestamps 1366137000 (17th April 2013) and 1397673000 (17th April 2014) and were still active after 1483209000 (1st Jan 2017)"
   ]
  },
  {
   "cell_type": "markdown",
   "metadata": {},
   "source": [
    "###### SELECT u.user_id\n",
    "###### FROM Users u\n",
    "###### LEFT JOIN Payments p ON u.user_id = p.user_id \n",
    "  ###### AND p.timestamp BETWEEN 1366137000 AND 1397673000\n",
    "###### WHERE p.user_id IS NULL\n",
    "  ###### AND u.last_active_at > 1483209000;"
   ]
  },
  {
   "cell_type": "markdown",
   "metadata": {},
   "source": []
  }
 ],
 "metadata": {
  "kernelspec": {
   "display_name": "Python 3",
   "language": "python",
   "name": "python3"
  },
  "language_info": {
   "codemirror_mode": {
    "name": "ipython",
    "version": 3
   },
   "file_extension": ".py",
   "mimetype": "text/x-python",
   "name": "python",
   "nbconvert_exporter": "python",
   "pygments_lexer": "ipython3",
   "version": "3.12.4"
  }
 },
 "nbformat": 4,
 "nbformat_minor": 2
}
